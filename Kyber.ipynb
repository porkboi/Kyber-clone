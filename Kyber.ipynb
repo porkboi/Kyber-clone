{
 "cells": [
  {
   "cell_type": "markdown",
   "metadata": {},
   "source": [
    "<h1>Function Bank</h1>\n",
    "<h2>Generation, Poly Matrix Operation</h2>\n",
    "<h3>Polynomials are Nested Lists => Allows for iteration and list comprehension</h3>"
   ]
  },
  {
   "cell_type": "code",
   "execution_count": 558,
   "metadata": {},
   "outputs": [],
   "source": [
    "from random import randrange\n",
    "import math\n",
    "import numpy as np\n",
    "\n",
    "def matrix_dot(A,s):\n",
    "    counter = 0\n",
    "    newvector = []\n",
    "    while counter in range(len(A)):\n",
    "        vector = []\n",
    "        polycount = 0\n",
    "        while polycount in range(len(A)):\n",
    "            newpoly1 = np.convolve(A[polycount][counter],s[polycount])\n",
    "            vector.append(newpoly1)\n",
    "            polycount += 1\n",
    "        vector2 = np.array(vector, dtype=object).transpose()\n",
    "        newpoly2 = []\n",
    "        for i in vector2:\n",
    "            a = sum(i)\n",
    "            newpoly2.append(a)\n",
    "        newvector.append(newpoly2)\n",
    "        counter += 1\n",
    "        if polycount == len(A):\n",
    "            polycount == 0\n",
    "    return newvector\n",
    "\n",
    "#def vector_dot(A,s):\n",
    "    #vector = []\n",
    "    #polycount = 0\n",
    "    #while polycount in range(len(A)):\n",
    "        #newpoly1 = np.polymul(A[polycount],s[polycount])\n",
    "        #vector.append(newpoly1)\n",
    "        #polycount += 1\n",
    "    #vector2 = np.array(vector, dtype=object).transpose()\n",
    "    #print(vector2)\n",
    "    #newpoly2 = []\n",
    "    #for i in vector2:\n",
    "        #a = sum(i)\n",
    "        #newpoly2.append(a)\n",
    "    #return newpoly2\n",
    "\n",
    "def vector_dot(A,s):\n",
    "    As = []\n",
    "    for i,j in enumerate(A):\n",
    "        newpoly1 = np.convolve(j,s[i])\n",
    "        As.append(newpoly1)\n",
    "    transposeAs = [list(sublists) for sublists in list(zip(*As))]\n",
    "    newpoly2 = []\n",
    "    for i in transposeAs:\n",
    "        a = sum(i)\n",
    "        newpoly2.append(a)\n",
    "    return newpoly2\n",
    "    \n",
    "def matrix_add(As,e):\n",
    "    t = []\n",
    "    for i,j in enumerate(As):\n",
    "        newpoly = np.polyadd(j,e[i])\n",
    "        t.append(newpoly)\n",
    "    return t\n",
    "\n",
    "def polymod(a,b):\n",
    "    if len(a) >= len(b):\n",
    "        a1 = [str(x) for x in a]\n",
    "        b1 = [str(x) for x in b]\n",
    "        diff = len(a1) - len(b1)\n",
    "        quotient = []\n",
    "        counter = 0\n",
    "        while counter in range(diff+1):\n",
    "            g = 0\n",
    "            quotient.append(g)\n",
    "            counter += 1\n",
    "        digit1 = a[0]/b[0]\n",
    "        if str(digit1)[-2:] == \".0\":\n",
    "            print(\"Safe\")\n",
    "        else:\n",
    "            print(\"Fraction detected\")\n",
    "        quotient[0] = digit1\n",
    "        remainder = np.polysub(a, np.convolve(quotient,b))\n",
    "        remainder = remainder.tolist()\n",
    "        remainder.pop(0)\n",
    "        #print(remainder)\n",
    "        polymod(remainder,b)\n",
    "    else:\n",
    "        #print(a)\n",
    "        global funn\n",
    "        funn = a\n",
    "        return funn\n",
    "    answer = funn\n",
    "    return answer\n",
    "\n",
    "def coeff_mod(a,q):\n",
    "    vectornew = []\n",
    "    for i in a:\n",
    "        polynew = [int(x%q) for x in i]\n",
    "        vectornew.append(polynew)\n",
    "    return vectornew\n",
    "\n",
    "#Generating u and v\n",
    "\n",
    "def rounding(q):\n",
    "    if q%2 == 0:\n",
    "        r = q/2\n",
    "        return r\n",
    "    else:\n",
    "        r = int(q/2+0.5)\n",
    "        return r\n",
    "\n",
    "def message_poly(message,q,n,k):\n",
    "    s = bin(message)\n",
    "    s = s[2:]\n",
    "    m_poly = []\n",
    "    for i in s:\n",
    "        m_poly.append(int(i)*rounding(q))\n",
    "    diff = (n*k)-1-len(m_poly)\n",
    "    zerobuffer = [0 for i in range(diff)]\n",
    "    n_poly = zerobuffer+m_poly\n",
    "    print(n_poly)\n",
    "    return n_poly\n",
    "\n",
    "def u_vector(A,r,e1,f,q):\n",
    "    umax = matrix_add(matrix_dot([list(sublists) for sublists in list(zip(*A))], r),e1)\n",
    "    umod1 = [polymod(i,f) for i in umax]\n",
    "    print(f\"U Mod f: {umod1}\")\n",
    "    umod2 = coeff_mod(umod1,q)\n",
    "    return umod2\n",
    "\n",
    "def v_vector(t,r,e2,f,q,m):\n",
    "    vmax = vector_dot(t,r)\n",
    "    print(f\"vmax: {vmax}\")\n",
    "    vmax2 = matrix_add(vmax,e2)\n",
    "    vmax3 = matrix_add(vmax2,m)\n",
    "    vmax3 = [int(i[0]) for i in vmax3]\n",
    "    vmod1 = polymod(vmax3,f)\n",
    "    vmod1 = [[int(x) for x in vmod1]]\n",
    "    vmod2 = coeff_mod(vmod1,q)\n",
    "    print(f\"vmod2: {vmod2}\")\n",
    "    vmod3 = [i for i in vmod2[0]]\n",
    "    return vmod3\n",
    "\n",
    "def bin_id(a,q):\n",
    "    if a/1 - math.ceil(q/2) <= q/4 and a/1 - math.ceil(q/2) >= -q/4:\n",
    "        b = 1\n",
    "        return b\n",
    "    else:\n",
    "        b = 0\n",
    "        return b\n",
    "    \n",
    "def bin_to_dec(a):\n",
    "    st = \"\".join(str(i) for i in a)\n",
    "    stt = int(st,2)\n",
    "    return stt"
   ]
  },
  {
   "cell_type": "markdown",
   "metadata": {},
   "source": [
    "<h1>Driver Code for Generation and Encryption of Message.</h1>"
   ]
  },
  {
   "cell_type": "code",
   "execution_count": 567,
   "metadata": {},
   "outputs": [
    {
     "name": "stdout",
     "output_type": "stream",
     "text": [
      "Safe\n",
      "Safe\n",
      "Safe\n",
      "Safe\n",
      "Safe\n",
      "Safe\n",
      "Safe\n",
      "Safe\n",
      "A: [[[4, 1, 0, 8, 11], [14, 6, 14, 14, 11]], [[10, 9, 15, 2, 4], [9, 0, 13, 4, 2]]]\n",
      "s: [[0, 1, 0, 0, 0], [1, 0, 0, 1, 1]]\n",
      "e: [[1, 0, 0, 0, 1], [1, 0, 0, 0, 0]]\n",
      "tmax: [array([10, 13, 16, 12, 32, 35, 17,  6,  5]), array([ 9, 14, 19, 27, 26, 24, 17,  6,  2])]\n",
      "t: [[15, 8, 4, 7, 10], [9, 15, 3, 4, 9]]\n",
      "Safe\n",
      "Safe\n",
      "Safe\n",
      "Safe\n",
      "Safe\n",
      "Safe\n",
      "Safe\n",
      "Safe\n",
      "U Mod f: [[33.0, 11.0, 16.0, -5.0, -3.0], [29.0, -2.0, 8.0, -28.0, -25.0]]\n",
      "[0, 0, 0, 0, 9, 9, 9, 0, 9]\n",
      "vmax: [9, 30, 26, 16, 29, 32, 13, 4, 9]\n",
      "Safe\n",
      "Safe\n",
      "Safe\n",
      "Safe\n",
      "vmod2: [[5, 14, 8, 13, 2]]\n",
      "r: [[0, 1, 1, 0, 0], [1, 0, 0, 0, 1]]\n",
      "u: [[16, 11, 16, 12, 14], [12, 15, 8, 6, 9]]\n",
      "v: [5, 14, 8, 13, 2]\n",
      "Safe\n",
      "Safe\n",
      "Safe\n",
      "Safe\n",
      "mn: [8, 6, 8, 0, 10]\n",
      "Message: 29\n"
     ]
    }
   ],
   "source": [
    "n = 5\n",
    "k = 2\n",
    "q = 17\n",
    "f = [1,0,0,0,0,1]\n",
    "message = 29\n",
    "\n",
    "def KeyGen(n,k,q):\n",
    "    s = [[randrange(0,math.floor(q/8)) for i in range(n)] for j in range(k)]\n",
    "    A = [[[randrange(0,q) for i in range(n)] for j in range(k)] for l in range(k)]\n",
    "    e = [[randrange(0,math.floor(q/8)) for i in range(n)] for j in range(k)]\n",
    "    #A = [[[6, 16, 16, 11], [5, 3, 10, 1]], [[9, 4, 6, 3], [6, 1, 9, 15]]]\n",
    "    #s = [[-1, -1, 1, 0], [-1, 0, -1, 0]]\n",
    "    #e = [[0, 1, 0, 0], [0, 1, -1, 0]]\n",
    "    As = matrix_dot(A,s)\n",
    "    t = matrix_add(As,e)\n",
    "    tmod1 = [polymod(i,f) for i in t]\n",
    "    tmod2 = coeff_mod(tmod1,q)\n",
    "    return (A,s,e,t,tmod2)\n",
    "\n",
    "A,s,e,tmax,t = KeyGen(n,k,q)\n",
    "\n",
    "print(f\"A: {A}\")\n",
    "print(f\"s: {s}\")\n",
    "print(f\"e: {e}\")\n",
    "print(f\"tmax: {tmax}\")\n",
    "print(f\"t: {t}\")\n",
    "\n",
    "def transmission(A,t,f,q,k,n,message):\n",
    "    r = [[randrange(0,math.floor(q/8)) for i in range(n)] for j in range(k)]\n",
    "    e1 = [[randrange(0,math.floor(q/8)) for i in range(n)] for j in range(k)]\n",
    "    e2 = [randrange(0,math.floor(q/8)) for i in range(n*k-1)]\n",
    "\n",
    "    #r = [[-1,1,0,0],[1,1,0,-1]]\n",
    "    #e1 = [[0,1,1,0],[0,1,0,0]]\n",
    "    #e2 = [0,0,0,-1,-1,0,0]\n",
    "    u = u_vector(A,r,e1,f,q)\n",
    "    v = v_vector(t,r,e2,f,q,message_poly(message,q,n,k))\n",
    "    return (r,u,v)\n",
    "\n",
    "r,u,v = transmission(A,t,f,q,k,n,message)\n",
    "print(f\"r: {r}\")\n",
    "print(f\"u: {u}\")\n",
    "print(f\"v: {v}\")\n",
    "\n",
    "def decryption(u,s,v,f,q):\n",
    "    stu = vector_dot(s,u)\n",
    "    diff = len(stu)-len(v)\n",
    "    zeropad = [0 for i in range(diff)]\n",
    "    v = zeropad + v\n",
    "    mn = np.polysub(v,stu).tolist()\n",
    "    mnmod1 = polymod(mn,f)\n",
    "    mnmod1 = [[i for i in mnmod1]]\n",
    "    mnmod2 = coeff_mod(mnmod1,q)\n",
    "    mnmod2 = mnmod2[0]\n",
    "    print(f\"mn: {mnmod2}\")\n",
    "    mnmod3 = []\n",
    "    for i in mnmod2:\n",
    "        c = bin_id(i,q)\n",
    "        mnmod3.append(c)\n",
    "    msg = bin_to_dec(mnmod3)\n",
    "    return msg\n",
    "\n",
    "msg = decryption(u,s,v,f,q)\n",
    "print(f\"Message: {msg}\")"
   ]
  },
  {
   "cell_type": "code",
   "execution_count": 413,
   "metadata": {},
   "outputs": [
    {
     "data": {
      "text/plain": [
       "[15, 5]"
      ]
     },
     "execution_count": 413,
     "metadata": {},
     "output_type": "execute_result"
    }
   ],
   "source": [
    "t = [[1, 0, 4, 0], [1, 1, 2, 1]]\n",
    "r = [[1, 1, 1, 0], [0, 1, 0, 0]]\n",
    "\n",
    "vector_dot(t,r)"
   ]
  },
  {
   "cell_type": "code",
   "execution_count": 500,
   "metadata": {},
   "outputs": [
    {
     "data": {
      "text/plain": [
       "[1, 0, 1, 1]"
      ]
     },
     "execution_count": 500,
     "metadata": {},
     "output_type": "execute_result"
    }
   ],
   "source": []
  },
  {
   "cell_type": "code",
   "execution_count": 69,
   "metadata": {},
   "outputs": [
    {
     "data": {
      "text/plain": [
       "[1001000, 1100101, 1101100, 1110000]"
      ]
     },
     "execution_count": 69,
     "metadata": {},
     "output_type": "execute_result"
    }
   ],
   "source": [
    "def message_poly(message):\n",
    "    l,m=[],[]\n",
    "    for i in message:\n",
    "        l.append(ord(i))\n",
    "    for i in l:\n",
    "        m.append(int(bin(i)[2:]))\n",
    "    return m\n",
    "\n",
    "def message_poly(message):\n",
    "    s = bin(message)\n",
    "    s = s[2:]\n",
    "    m_poly = []\n",
    "    for i in s:\n",
    "        m_poly.append(i)\n",
    "    return m_poly\n",
    "\n",
    "message_poly(\"Help\")"
   ]
  },
  {
   "cell_type": "code",
   "execution_count": 433,
   "metadata": {},
   "outputs": [
    {
     "data": {
      "text/plain": [
       "array([0, 0, 0, 4, 4, 0, 0])"
      ]
     },
     "execution_count": 433,
     "metadata": {},
     "output_type": "execute_result"
    }
   ],
   "source": [
    "a = [0, 0, 4, 0]\n",
    "b = [0, 1, 1, 0]\n",
    "\n",
    "np.convolve(a,b)"
   ]
  },
  {
   "cell_type": "code",
   "execution_count": 185,
   "metadata": {},
   "outputs": [
    {
     "data": {
      "text/plain": [
       "0"
      ]
     },
     "execution_count": 185,
     "metadata": {},
     "output_type": "execute_result"
    }
   ],
   "source": [
    "def bin_id(a,q):\n",
    "    if -q/4 < a/1 - q/2 < q/4:\n",
    "        b = 0\n",
    "        return b\n",
    "    else:\n",
    "        b = 1\n",
    "        return b\n",
    "\n",
    "bin_id(9,q)"
   ]
  },
  {
   "cell_type": "code",
   "execution_count": 87,
   "metadata": {},
   "outputs": [
    {
     "data": {
      "text/plain": [
       "[9, 0, 9, 9]"
      ]
     },
     "execution_count": 87,
     "metadata": {},
     "output_type": "execute_result"
    }
   ],
   "source": [
    "def rounding(q):\n",
    "    if q%2 == 0:\n",
    "        r = q/2\n",
    "        return r\n",
    "    else:\n",
    "        r = int(q/2+0.5)\n",
    "        return r\n",
    "\n",
    "def message_poly(message,q):\n",
    "    s = bin(message)\n",
    "    s = s[2:]\n",
    "    m_poly = []\n",
    "    for i in s:\n",
    "        m_poly.append(int(i)*rounding(q))\n",
    "    return m_poly\n",
    "\n",
    "message_poly(11,q)"
   ]
  },
  {
   "cell_type": "code",
   "execution_count": 199,
   "metadata": {},
   "outputs": [
    {
     "data": {
      "text/plain": [
       "11"
      ]
     },
     "execution_count": 199,
     "metadata": {},
     "output_type": "execute_result"
    }
   ],
   "source": [
    "a = [1, 0, 1, 1]\n",
    "\n",
    "st = \"\".join(str(i) for i in a)\n",
    "st = int(st,2)\n",
    "st"
   ]
  },
  {
   "cell_type": "code",
   "execution_count": 197,
   "metadata": {},
   "outputs": [
    {
     "ename": "ValueError",
     "evalue": "invalid literal for int() with base 10: '0b1010'",
     "output_type": "error",
     "traceback": [
      "\u001b[1;31m---------------------------------------------------------------------------\u001b[0m",
      "\u001b[1;31mValueError\u001b[0m                                Traceback (most recent call last)",
      "\u001b[1;32m<ipython-input-197-cbd6e8f2b86a>\u001b[0m in \u001b[0;36m<module>\u001b[1;34m\u001b[0m\n\u001b[0;32m      1\u001b[0m \u001b[0ma\u001b[0m \u001b[1;33m=\u001b[0m \u001b[0mbin\u001b[0m\u001b[1;33m(\u001b[0m\u001b[1;36m10\u001b[0m\u001b[1;33m)\u001b[0m\u001b[1;33m\u001b[0m\u001b[1;33m\u001b[0m\u001b[0m\n\u001b[1;32m----> 2\u001b[1;33m \u001b[0mb\u001b[0m \u001b[1;33m=\u001b[0m \u001b[0mint\u001b[0m\u001b[1;33m(\u001b[0m\u001b[0ma\u001b[0m\u001b[1;33m)\u001b[0m\u001b[1;33m\u001b[0m\u001b[1;33m\u001b[0m\u001b[0m\n\u001b[0m\u001b[0;32m      3\u001b[0m \u001b[0mb\u001b[0m\u001b[1;33m\u001b[0m\u001b[1;33m\u001b[0m\u001b[0m\n",
      "\u001b[1;31mValueError\u001b[0m: invalid literal for int() with base 10: '0b1010'"
     ]
    }
   ],
   "source": []
  },
  {
   "cell_type": "code",
   "execution_count": null,
   "metadata": {},
   "outputs": [],
   "source": []
  }
 ],
 "metadata": {
  "kernelspec": {
   "display_name": "Python 3",
   "language": "python",
   "name": "python3"
  },
  "language_info": {
   "codemirror_mode": {
    "name": "ipython",
    "version": 3
   },
   "file_extension": ".py",
   "mimetype": "text/x-python",
   "name": "python",
   "nbconvert_exporter": "python",
   "pygments_lexer": "ipython3",
   "version": "3.8.5"
  }
 },
 "nbformat": 4,
 "nbformat_minor": 4
}
