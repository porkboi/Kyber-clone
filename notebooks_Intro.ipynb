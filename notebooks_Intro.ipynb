{
  "metadata": {
    "kernelspec": {
      "name": "python",
      "display_name": "Python (Pyodide)",
      "language": "python"
    },
    "language_info": {
      "codemirror_mode": {
        "name": "python",
        "version": 3
      },
      "file_extension": ".py",
      "mimetype": "text/x-python",
      "name": "python",
      "nbconvert_exporter": "python",
      "pygments_lexer": "ipython3",
      "version": "3.8"
    }
  },
  "nbformat_minor": 5,
  "nbformat": 4,
  "cells": [
    {
      "cell_type": "code",
      "source": "import math\nimport numpy as np\nfrom random import randrange\n\nn = 3\n\ndef LatticeVectorGen(n):\n    a = [randrange(1,5) for i in range(n)]\n    b = [randrange(1,5) for i in range(n)]\n    c = [randrange(1,5) for i in range(n)]\n    return a,b,c\n    \ndef vectorlength(a):\n    g = 0\n    for i in a:\n        b = i*i\n        g += b\n    h = math.sqrt(g)\n    return h\n\ndef GramSchmidt(a,b,c):\n    moda = vectorlength(a)\n    print(a)\n    bprime = np.subtract(b,np.multiply((np.dot(a,b)/moda*moda),a)).tolist()\n    print(bprime)\n    modbprime = vectorlength(bprime)\n    difference = np.add(np.multiply((np.dot(a,c)/(moda*moda)),a),np.multiply((np.dot(bprime,c)/(modbprime*modbprime)),bprime))\n    print(f\"diff{difference}\")\n    print(c)\n    cprime = np.subtract(c,difference)\n    print(cprime)\n    return (a,bprime,cprime)\n\ndef OrthGen(n):\n    a,b,c = LatticeVectorGen(n)\n    v1,v2,v3 = GramSchmidt(a,b,c)\n    return v1,v2,v3\n\ndef checkOrth(a,b):\n    print(a)\n    print(b)\n    moda = vectorlength(a)\n    modb = vectorlength(b)\n    g = np.arccos(np.divide(np.dot(a,b),np.multiply(moda,modb)))\n    if g - math.pi < 0.1 and g - math.pi > -0.1:\n        return True , g\n    else:\n        return False , g\n\nv1,v2,v3 = OrthGen(n)\n#checkOrth(v1,v2)\ncheckOrth(v1,v3)",
      "metadata": {
        "trusted": true
      },
      "execution_count": 212,
      "outputs": [
        {
          "name": "stdout",
          "text": "[2, 2, 2]\n[-29.0, -30.0, -29.0]\ndiff[5.28363026 5.37387038 5.28363026]\n[4, 1, 3]\n[-1.28363026 -4.37387038 -2.28363026]\n[2, 2, 2]\n[-1.28363026 -4.37387038 -2.28363026]\n",
          "output_type": "stream"
        },
        {
          "execution_count": 211,
          "output_type": "execute_result",
          "data": {
            "text/plain": "(False, 2.688893727409405)"
          },
          "metadata": {}
        }
      ],
      "id": "b6ffe61e-2980-4c4c-a95a-b203932198f8"
    },
    {
      "cell_type": "code",
      "source": "a = [1,2,3]\nb = [4,5,6]\n\ndef vectorlength(a):\n    g = 0\n    for i in a:\n        b = i*i\n        g += b\n    h = math.sqrt(g)\n    return h\n\nnp.multiply((np.dot(a,b)/(vectorlength(a)*vectorlength(a))),a)",
      "metadata": {
        "trusted": true
      },
      "execution_count": 195,
      "outputs": [
        {
          "execution_count": 194,
          "output_type": "execute_result",
          "data": {
            "text/plain": "array([2.28571429, 4.57142857, 6.85714286])"
          },
          "metadata": {}
        }
      ],
      "id": "fe55883a-6887-43dd-9498-5333a51799e2"
    },
    {
      "cell_type": "code",
      "source": "a = [1,2,3]\nb = [4,5,6]\n\nnp.add(a,b)",
      "metadata": {
        "trusted": true
      },
      "execution_count": 201,
      "outputs": [
        {
          "execution_count": 200,
          "output_type": "execute_result",
          "data": {
            "text/plain": "array([5, 7, 9])"
          },
          "metadata": {}
        }
      ],
      "id": "8e862cef-d128-4506-9e46-c3fde37b2ec8"
    },
    {
      "cell_type": "code",
      "source": "",
      "metadata": {
        "trusted": true
      },
      "execution_count": null,
      "outputs": [],
      "id": "99a6ec77-4d4a-418d-8879-9f4568886026"
    },
    {
      "cell_type": "code",
      "source": "from random import randrange\nrandrange(1,7)",
      "metadata": {
        "trusted": true
      },
      "execution_count": 114,
      "outputs": [
        {
          "execution_count": 113,
          "output_type": "execute_result",
          "data": {
            "text/plain": "6"
          },
          "metadata": {}
        }
      ],
      "id": "279bd090-f5c0-42d3-8c45-37edd8e1744f"
    },
    {
      "cell_type": "code",
      "source": "",
      "metadata": {},
      "execution_count": null,
      "outputs": [],
      "id": "29c1cc40-dbcb-4615-9eb8-bbd679b677dd"
    },
    {
      "cell_type": "code",
      "source": "",
      "metadata": {},
      "execution_count": null,
      "outputs": [],
      "id": "86861d49-6763-4a4c-9bae-2e2a93a86cda"
    }
  ]
}